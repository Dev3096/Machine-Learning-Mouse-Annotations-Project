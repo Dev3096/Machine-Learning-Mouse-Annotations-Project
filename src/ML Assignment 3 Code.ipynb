{
 "cells": [
  {
   "cell_type": "code",
   "execution_count": null,
   "id": "3112bf2f",
   "metadata": {},
   "outputs": [],
   "source": []
  },
  {
   "cell_type": "code",
   "execution_count": null,
   "id": "1cab6e59",
   "metadata": {},
   "outputs": [],
   "source": [
    "import pandas as pd\n",
    "import numpy as np"
   ]
  },
  {
   "cell_type": "code",
   "execution_count": null,
   "id": "6f5ccbea",
   "metadata": {},
   "outputs": [],
   "source": [
    "import math\n",
    "import matplotlib.pyplot as plt\n",
    "import numpy as np\n",
    "from numpy.random import seed\n",
    "seed(1)\n",
    "import pandas as pd\n",
    "import statsmodels.api as sm\n",
    "import statsmodels.formula.api as smf\n",
    "import tensorflow\n",
    "tensorflow.random.set_seed(1)\n",
    "from tensorflow.python.keras.layers import Dense\n",
    "from tensorflow.keras.layers import Dropout\n",
    "from tensorflow.python.keras.models import Sequential\n",
    "from tensorflow.python.keras.wrappers.scikit_learn import KerasRegressor\n",
    "from sklearn.metrics import mean_absolute_error\n",
    "from sklearn.metrics import mean_squared_error\n",
    "from sklearn.model_selection import train_test_split\n",
    "from sklearn.preprocessing import MinMaxScaler\n",
    "import keras.backend as K"
   ]
  },
  {
   "cell_type": "code",
   "execution_count": null,
   "id": "f13733e4",
   "metadata": {},
   "outputs": [],
   "source": [
    "df = pd.read_csv(r\"C:\\Users\\Avenger\\Desktop\\ML Assignment 3\\Mouse-annotation\\labeled-data\\0026\\A20490554_CollectedData_annotation.csv\")\n",
    "df\n"
   ]
  },
  {
   "cell_type": "markdown",
   "id": "9e9a617a",
   "metadata": {},
   "source": [
    "# Data Cleaning"
   ]
  },
  {
   "cell_type": "code",
   "execution_count": null,
   "id": "02f647c1",
   "metadata": {},
   "outputs": [],
   "source": [
    "df = df.drop(columns=['scorer', 'Unnamed: 1', 'Unnamed: 2'])\n",
    "df.rename(columns={'annotation': 'mouse1 topleft x', 'annotation.1': 'mouse1 topleft y',\n",
    "                   'annotation.2': 'mouse1 rightdown x', 'annotation.3': 'mouse1 rightdown y',\n",
    "                   'annotation.4': 'mouse1 nose x', 'annotation.5': 'mouse1 nose y',\n",
    "                   'annotation.6': 'mouse1 leftear x', 'annotation.7': 'mouse1 leftear y',\n",
    "                   'annotation.8': 'mouse1 rightear x', 'annotation.9': 'mouse1 rightear y',\n",
    "                   'annotation.10': 'mouse1 leftHip x', 'annotation.11': 'mouse1 leftHip y',\n",
    "                   'annotation.12': 'mouse1 rightHip x', 'annotation.13': 'mouse1 rightHip y',\n",
    "                   'annotation.14': 'mouse1 tailBase x', 'annotation.15': 'mouse1 tailBase y',\n",
    "                   'annotation.16': 'mouse1 tailEnd x', 'annotation.17': 'mouse1 tailEnd y',\n",
    "                   'annotation.18': 'mouse2 topleft x', 'annotation.19': 'mouse2 topleft y',\n",
    "                   'annotation.20': 'mouse2 rightdown x', 'annotation.21': 'mouse2 rightdown y',\n",
    "                   'annotation.22': 'mouse2 nose x', 'annotation.23': 'mouse2 nose y',\n",
    "                   'annotation.24': 'mouse2 leftear x', 'annotation.25': 'mouse2 leftear y',\n",
    "                   'annotation.26': 'mouse2 rightear x', 'annotation.27': 'mouse2 rightear y',\n",
    "                   'annotation.28': 'mouse2 leftHip x', 'annotation.29': 'mouse2 leftHip y',\n",
    "                   'annotation.30': 'mouse2 rightHip x', 'annotation.31': 'mouse2 rightHip y',\n",
    "                   'annotation.32': 'mouse2 tailBase x', 'annotation.33': 'mouse2 tailBase y',\n",
    "                   'annotation.34': 'mouse2 tailEnd x', 'annotation.35': 'mouse2 tailEnd y'}, inplace=True)\n",
    "\n",
    "df"
   ]
  },
  {
   "cell_type": "code",
   "execution_count": null,
   "id": "359bef19",
   "metadata": {},
   "outputs": [],
   "source": [
    "df = df.drop(range(0,3))\n",
    "df = df.reset_index(drop=True)\n",
    "df"
   ]
  },
  {
   "cell_type": "code",
   "execution_count": null,
   "id": "1c396bf2",
   "metadata": {
    "scrolled": false
   },
   "outputs": [],
   "source": [
    "df.info()"
   ]
  },
  {
   "cell_type": "code",
   "execution_count": null,
   "id": "030e058c",
   "metadata": {},
   "outputs": [],
   "source": [
    "# converting data types to float\n",
    "df = df.apply(pd.to_numeric)\n",
    "df.info()"
   ]
  },
  {
   "cell_type": "code",
   "execution_count": null,
   "id": "76bd5626",
   "metadata": {},
   "outputs": [],
   "source": [
    "df"
   ]
  },
  {
   "cell_type": "markdown",
   "id": "60e9892e",
   "metadata": {},
   "source": [
    "# Ground Truth"
   ]
  },
  {
   "cell_type": "code",
   "execution_count": null,
   "id": "95efdaf2",
   "metadata": {},
   "outputs": [],
   "source": [
    "df['mouse1 center x'] = (df['mouse1 topleft x'] + df['mouse1 rightdown x'])/2\n",
    "df['mouse1 center y'] = (df['mouse1 topleft y'] + df['mouse1 rightdown y'])/2\n",
    "df['mouse2 center x'] = (df['mouse2 topleft x'] + df['mouse2 rightdown x'])/2\n",
    "df['mouse2 center y'] = (df['mouse2 topleft y'] + df['mouse2 rightdown y'])/2"
   ]
  },
  {
   "cell_type": "code",
   "execution_count": null,
   "id": "01340fae",
   "metadata": {},
   "outputs": [],
   "source": [
    "df1 = df\n",
    "df3 = df"
   ]
  },
  {
   "cell_type": "markdown",
   "id": "f0414b42",
   "metadata": {},
   "source": [
    "# MOUSE 1"
   ]
  },
  {
   "cell_type": "markdown",
   "id": "946e0bc8",
   "metadata": {},
   "source": [
    "# Handeling Null values "
   ]
  },
  {
   "cell_type": "markdown",
   "id": "ae06d5d1",
   "metadata": {},
   "source": [
    "# Filling null values with 0"
   ]
  },
  {
   "cell_type": "code",
   "execution_count": null,
   "id": "be9ae214",
   "metadata": {},
   "outputs": [],
   "source": [
    "df=df.fillna(0)\n",
    "df2 = df\n",
    "df"
   ]
  },
  {
   "cell_type": "code",
   "execution_count": null,
   "id": "b8d94c2b",
   "metadata": {},
   "outputs": [],
   "source": [
    "df\n"
   ]
  },
  {
   "cell_type": "markdown",
   "id": "9fa1401a",
   "metadata": {},
   "source": [
    "# Labeled data for training"
   ]
  },
  {
   "cell_type": "code",
   "execution_count": null,
   "id": "282b3ecd",
   "metadata": {},
   "outputs": [],
   "source": [
    "y1 = np.column_stack((df[\"mouse1 center x\"], df[\"mouse1 center y\"]))\n"
   ]
  },
  {
   "cell_type": "code",
   "execution_count": null,
   "id": "fbb03960",
   "metadata": {},
   "outputs": [],
   "source": [
    "x1 = np.column_stack((df['mouse1 nose x'],df['mouse1 nose y'],\n",
    "                      df['mouse1 leftear x'],df['mouse1 leftear y'],\n",
    "                      df['mouse1 rightear x'],df['mouse1 rightear y'],\n",
    "                      df['mouse1 leftHip x'],df['mouse1 leftHip y'],\n",
    "                      df['mouse1 rightHip x'],df['mouse1 rightHip y'],\n",
    "                      df['mouse1 tailBase x'],df['mouse1 tailBase y'],\n",
    "                      df['mouse1 tailEnd x'],df['mouse1 tailEnd y']))"
   ]
  },
  {
   "cell_type": "code",
   "execution_count": null,
   "id": "a8c4fcb1",
   "metadata": {},
   "outputs": [],
   "source": [
    "x1 = sm.add_constant(x1, prepend=True)"
   ]
  },
  {
   "cell_type": "markdown",
   "id": "7d688e9a",
   "metadata": {},
   "source": [
    "# Splitting the data into training and testing set"
   ]
  },
  {
   "cell_type": "code",
   "execution_count": null,
   "id": "f67de88b",
   "metadata": {},
   "outputs": [],
   "source": [
    "X_train, X_test, y_train, y_test = train_test_split(x1, y1, test_size = 0.3)"
   ]
  },
  {
   "cell_type": "code",
   "execution_count": null,
   "id": "dcc159b8",
   "metadata": {},
   "outputs": [],
   "source": [
    "my_test = y_test"
   ]
  },
  {
   "cell_type": "markdown",
   "id": "73b2b08e",
   "metadata": {},
   "source": [
    "# Feature Scaling Function"
   ]
  },
  {
   "cell_type": "code",
   "execution_count": null,
   "id": "3fc683b3",
   "metadata": {},
   "outputs": [],
   "source": [
    "def featureScaling(X_train, X_test, y_train, y_test):\n",
    "    y_train=np.reshape(y_train, (-1,1))\n",
    "    y_test=np.reshape(y_test, (-1,1))\n",
    "    scaler_x = MinMaxScaler()\n",
    "    global scaler_y \n",
    "    scaler_y = MinMaxScaler()\n",
    "    print(scaler_x.fit(X_train))\n",
    "    xtrain_scale=scaler_x.transform(X_train)\n",
    "    print(scaler_x.fit(X_test))\n",
    "    xval_scale=scaler_x.transform(X_test)\n",
    "    print(scaler_y.fit(y_train))\n",
    "    ytrain_scale=scaler_y.transform(y_train)\n",
    "    print(scaler_y.fit(y_test))\n",
    "    yval_scale=scaler_y.transform(y_test)\n",
    "    return (xtrain_scale, xval_scale, ytrain_scale, yval_scale) "
   ]
  },
  {
   "cell_type": "markdown",
   "id": "2d8a8b02",
   "metadata": {},
   "source": [
    "# LSTM Model"
   ]
  },
  {
   "cell_type": "code",
   "execution_count": null,
   "id": "df166946",
   "metadata": {},
   "outputs": [],
   "source": [
    "def custom_loss(y_true, y_pred):\n",
    "    return K.sum((y_true - y_pred)**2)\n",
    "def lstm(xtrain_scale, ytrain_scale, xval_scale,input_layer,hidden_layer1,hidden_layer2,hidden_layer3,output_layer):\n",
    "    model = Sequential()\n",
    "    model.add(Dense(input_layer, input_dim=input_layer, kernel_initializer='normal', activation='relu'))\n",
    "    model.add(Dense(hidden_layer1, activation='relu'))\n",
    "    Dropout(0.2)\n",
    "    model.add(Dense(hidden_layer2, activation='relu'))\n",
    "    Dropout(0.2)\n",
    "    model.add(Dense(hidden_layer3, activation='relu'))\n",
    "    Dropout(0.2)\n",
    "    model.add(Dense(output_layer, activation='linear'))\n",
    "    print(model.summary())\n",
    "    model.compile(loss=custom_loss, optimizer='adam', metrics=[custom_loss])\n",
    "    history=model.fit(xtrain_scale, ytrain_scale, epochs=60, batch_size=150, verbose=1, validation_split=0.3)\n",
    "    predictions = model.predict(xval_scale)\n",
    "    return (history, predictions)"
   ]
  },
  {
   "cell_type": "markdown",
   "id": "11451657",
   "metadata": {},
   "source": [
    "# Model Loss Plot function"
   ]
  },
  {
   "cell_type": "code",
   "execution_count": null,
   "id": "0574c949",
   "metadata": {},
   "outputs": [],
   "source": [
    "def plotting(history):\n",
    "    print(history.history.keys())\n",
    "    # \"Loss\"\n",
    "    plt.plot(history.history['loss'])\n",
    "    plt.plot(history.history['val_loss'])\n",
    "    plt.title('model loss')\n",
    "    plt.ylabel('loss')\n",
    "    plt.xlabel('epoch')\n",
    "    plt.legend(['train', 'test'], loc='upper left')\n",
    "    plt.show()"
   ]
  },
  {
   "cell_type": "markdown",
   "id": "93477cb0",
   "metadata": {},
   "source": [
    "# Mean Squared error and l2 loss function"
   ]
  },
  {
   "cell_type": "code",
   "execution_count": null,
   "id": "44dad14c",
   "metadata": {},
   "outputs": [],
   "source": [
    "def loss(my_test, predictions):\n",
    "    print(\"Mean Squared Error is: \" + str(mean_squared_error(my_test, predictions)))\n",
    "    print(\"L2 loss: \"+ str(np.sum(np.power((my_test-predictions),2))))\n",
    "    return (str(np.sum(np.power((my_test-predictions),2))))"
   ]
  },
  {
   "cell_type": "markdown",
   "id": "9023cb88",
   "metadata": {},
   "source": [
    "# Feature Scaling"
   ]
  },
  {
   "cell_type": "code",
   "execution_count": null,
   "id": "d4cf6e9e",
   "metadata": {},
   "outputs": [],
   "source": [
    "xtrain_scale, xval_scale, ytrain_scale, yval_scale = featureScaling(X_train, X_test, y_train, y_test)"
   ]
  },
  {
   "cell_type": "code",
   "execution_count": null,
   "id": "ce80e93e",
   "metadata": {
    "scrolled": false
   },
   "outputs": [],
   "source": [
    "history, predictions = lstm(xtrain_scale, ytrain_scale, xval_scale,15,1496, 500, 180,2)"
   ]
  },
  {
   "cell_type": "markdown",
   "id": "23447fde",
   "metadata": {},
   "source": [
    "# Model Loss plot"
   ]
  },
  {
   "cell_type": "code",
   "execution_count": null,
   "id": "b9c98cb3",
   "metadata": {},
   "outputs": [],
   "source": [
    "plotting(history)"
   ]
  },
  {
   "cell_type": "markdown",
   "id": "73716cbc",
   "metadata": {},
   "source": [
    "# Predictions"
   ]
  },
  {
   "cell_type": "code",
   "execution_count": null,
   "id": "ef4d4298",
   "metadata": {},
   "outputs": [],
   "source": [
    "predictions = scaler_y.inverse_transform(predictions)\n",
    "predictions"
   ]
  },
  {
   "cell_type": "markdown",
   "id": "355dcd59",
   "metadata": {},
   "source": [
    "# Mean Squared error and l2 loss"
   ]
  },
  {
   "cell_type": "code",
   "execution_count": null,
   "id": "e951205b",
   "metadata": {},
   "outputs": [],
   "source": [
    "loss_mouse_1_null_0 = loss(my_test, predictions)"
   ]
  },
  {
   "cell_type": "markdown",
   "id": "198ef2af",
   "metadata": {},
   "source": [
    "# MOUSE 2"
   ]
  },
  {
   "cell_type": "markdown",
   "id": "c889d917",
   "metadata": {},
   "source": [
    "# Labeled data for training"
   ]
  },
  {
   "cell_type": "code",
   "execution_count": null,
   "id": "b05d5569",
   "metadata": {},
   "outputs": [],
   "source": [
    "y2 = np.column_stack((df[\"mouse2 center x\"], df[\"mouse2 center y\"]))"
   ]
  },
  {
   "cell_type": "code",
   "execution_count": null,
   "id": "c4f8c1f9",
   "metadata": {},
   "outputs": [],
   "source": [
    "x2 = np.column_stack((df['mouse2 nose x'],df['mouse2 nose y'],\n",
    "                      df['mouse2 leftear x'],df['mouse2 leftear y'],\n",
    "                      df['mouse2 rightear x'],df['mouse2 rightear y'],\n",
    "                      df['mouse2 leftHip x'],df['mouse2 leftHip y'],\n",
    "                      df['mouse2 rightHip x'],df['mouse2 rightHip y'],\n",
    "                      df['mouse2 tailBase x'],df['mouse2 tailBase y'],\n",
    "                      df['mouse2 tailEnd x'],df['mouse2 tailEnd y']))"
   ]
  },
  {
   "cell_type": "code",
   "execution_count": null,
   "id": "b46cb8f6",
   "metadata": {},
   "outputs": [],
   "source": [
    "x2 = sm.add_constant(x1, prepend=True)"
   ]
  },
  {
   "cell_type": "markdown",
   "id": "4e6ade46",
   "metadata": {},
   "source": [
    "# Splitting the data into training and testing set"
   ]
  },
  {
   "cell_type": "code",
   "execution_count": null,
   "id": "6ee484e1",
   "metadata": {},
   "outputs": [],
   "source": [
    "X_train, X_test, y_train, y_test = train_test_split(x2, y2, test_size = 0.3)"
   ]
  },
  {
   "cell_type": "code",
   "execution_count": null,
   "id": "bd218fc0",
   "metadata": {},
   "outputs": [],
   "source": [
    "my_test = y_test"
   ]
  },
  {
   "cell_type": "markdown",
   "id": "6377ab9a",
   "metadata": {},
   "source": [
    "# Feature Scaling"
   ]
  },
  {
   "cell_type": "code",
   "execution_count": null,
   "id": "1b44d435",
   "metadata": {},
   "outputs": [],
   "source": [
    "xtrain_scale, xval_scale, ytrain_scale, yval_scale = featureScaling(X_train, X_test, y_train, y_test)"
   ]
  },
  {
   "cell_type": "code",
   "execution_count": null,
   "id": "d0da1d7e",
   "metadata": {
    "scrolled": false
   },
   "outputs": [],
   "source": [
    "history, predictions = lstm(xtrain_scale, ytrain_scale, xval_scale,15,1496, 500, 180,2)"
   ]
  },
  {
   "cell_type": "markdown",
   "id": "74a876ec",
   "metadata": {},
   "source": [
    "# Model Loss plot"
   ]
  },
  {
   "cell_type": "code",
   "execution_count": null,
   "id": "fa5b4446",
   "metadata": {},
   "outputs": [],
   "source": [
    "plotting(history)"
   ]
  },
  {
   "cell_type": "markdown",
   "id": "33445492",
   "metadata": {},
   "source": [
    "# Predictions"
   ]
  },
  {
   "cell_type": "code",
   "execution_count": null,
   "id": "2a8144e3",
   "metadata": {},
   "outputs": [],
   "source": [
    "predictions = scaler_y.inverse_transform(predictions)\n",
    "predictions"
   ]
  },
  {
   "cell_type": "markdown",
   "id": "625905bb",
   "metadata": {},
   "source": [
    "# Mean Squared error and l2 loss"
   ]
  },
  {
   "cell_type": "code",
   "execution_count": null,
   "id": "399d48eb",
   "metadata": {},
   "outputs": [],
   "source": [
    "loss_mouse_2_null_0 = loss(my_test, predictions)"
   ]
  },
  {
   "cell_type": "markdown",
   "id": "74bc6eab",
   "metadata": {},
   "source": [
    "# Second Approach (Dropping the rows containing null values)"
   ]
  },
  {
   "cell_type": "code",
   "execution_count": null,
   "id": "251a2ce6",
   "metadata": {},
   "outputs": [],
   "source": [
    "df1=df1.dropna()\n",
    "df1"
   ]
  },
  {
   "cell_type": "markdown",
   "id": "e7f23b74",
   "metadata": {},
   "source": [
    "# Labeled data for training"
   ]
  },
  {
   "cell_type": "markdown",
   "id": "183bd836",
   "metadata": {},
   "source": [
    "# Model for Mouse 1"
   ]
  },
  {
   "cell_type": "markdown",
   "id": "de0abcb4",
   "metadata": {},
   "source": [
    "# Labeled data for training"
   ]
  },
  {
   "cell_type": "code",
   "execution_count": null,
   "id": "40e2dfb6",
   "metadata": {},
   "outputs": [],
   "source": [
    "y1 = np.column_stack((df1[\"mouse1 center x\"], df1[\"mouse1 center y\"]))"
   ]
  },
  {
   "cell_type": "code",
   "execution_count": null,
   "id": "84e27492",
   "metadata": {},
   "outputs": [],
   "source": [
    "x1 = np.column_stack((df1['mouse1 nose x'],df1['mouse1 nose y'],\n",
    "                      df1['mouse1 leftear x'],df1['mouse1 leftear y'],\n",
    "                      df1['mouse1 rightear x'],df1['mouse1 rightear y'],\n",
    "                      df1['mouse1 leftHip x'],df1['mouse1 leftHip y'],\n",
    "                      df1['mouse1 rightHip x'],df1['mouse1 rightHip y'],\n",
    "                      df1['mouse1 tailBase x'],df1['mouse1 tailBase y'],\n",
    "                      df1['mouse1 tailEnd x'],df1['mouse1 tailEnd y']))"
   ]
  },
  {
   "cell_type": "code",
   "execution_count": null,
   "id": "33cf9352",
   "metadata": {},
   "outputs": [],
   "source": [
    "x1 = sm.add_constant(x1, prepend=True)"
   ]
  },
  {
   "cell_type": "markdown",
   "id": "334fa9f8",
   "metadata": {},
   "source": [
    "# Splitting the data into training and testing set"
   ]
  },
  {
   "cell_type": "code",
   "execution_count": null,
   "id": "8ba73419",
   "metadata": {},
   "outputs": [],
   "source": [
    "X_train, X_test, y_train, y_test = train_test_split(x1, y1, test_size = 0.3)"
   ]
  },
  {
   "cell_type": "code",
   "execution_count": null,
   "id": "b14d6f6a",
   "metadata": {},
   "outputs": [],
   "source": [
    "my_test = y_test"
   ]
  },
  {
   "cell_type": "markdown",
   "id": "e9a2a71a",
   "metadata": {},
   "source": [
    "# Feature Scaling"
   ]
  },
  {
   "cell_type": "code",
   "execution_count": null,
   "id": "cd6eec30",
   "metadata": {},
   "outputs": [],
   "source": [
    "xtrain_scale, xval_scale, ytrain_scale, yval_scale = featureScaling(X_train, X_test, y_train, y_test)"
   ]
  },
  {
   "cell_type": "code",
   "execution_count": null,
   "id": "c405d58c",
   "metadata": {
    "scrolled": false
   },
   "outputs": [],
   "source": [
    "history, predictions = lstm(xtrain_scale, ytrain_scale, xval_scale,15,1496, 500, 180,2)"
   ]
  },
  {
   "cell_type": "markdown",
   "id": "3e828a05",
   "metadata": {},
   "source": [
    "# Model Loss plot"
   ]
  },
  {
   "cell_type": "code",
   "execution_count": null,
   "id": "b74c6c4f",
   "metadata": {},
   "outputs": [],
   "source": [
    "plotting(history)"
   ]
  },
  {
   "cell_type": "markdown",
   "id": "b376042c",
   "metadata": {},
   "source": [
    "# Predictions"
   ]
  },
  {
   "cell_type": "code",
   "execution_count": null,
   "id": "8a2eb10a",
   "metadata": {},
   "outputs": [],
   "source": [
    "predictions = scaler_y.inverse_transform(predictions)\n",
    "predictions"
   ]
  },
  {
   "cell_type": "markdown",
   "id": "2ef4a834",
   "metadata": {},
   "source": [
    "# Mean Squared error and l2 loss"
   ]
  },
  {
   "cell_type": "code",
   "execution_count": null,
   "id": "1e829c68",
   "metadata": {},
   "outputs": [],
   "source": [
    "loss_mouse_1_null_drop = loss(my_test, predictions)"
   ]
  },
  {
   "cell_type": "markdown",
   "id": "e47439bc",
   "metadata": {},
   "source": [
    "# Model for Mouse 2"
   ]
  },
  {
   "cell_type": "markdown",
   "id": "244f1b89",
   "metadata": {},
   "source": [
    "# Labeled data for training"
   ]
  },
  {
   "cell_type": "code",
   "execution_count": null,
   "id": "021180df",
   "metadata": {},
   "outputs": [],
   "source": [
    "y2 = np.column_stack((df1[\"mouse2 center x\"], df1[\"mouse2 center y\"]))"
   ]
  },
  {
   "cell_type": "code",
   "execution_count": null,
   "id": "c6a8d35f",
   "metadata": {},
   "outputs": [],
   "source": [
    "x2 = np.column_stack((df1['mouse2 nose x'],df1['mouse2 nose y'],\n",
    "                      df1['mouse2 leftear x'],df1['mouse2 leftear y'],\n",
    "                      df1['mouse2 rightear x'],df1['mouse2 rightear y'],\n",
    "                      df1['mouse2 leftHip x'],df1['mouse2 leftHip y'],\n",
    "                      df1['mouse2 rightHip x'],df1['mouse2 rightHip y'],\n",
    "                      df1['mouse2 tailBase x'],df1['mouse2 tailBase y'],\n",
    "                      df1['mouse2 tailEnd x'],df1['mouse2 tailEnd y']))"
   ]
  },
  {
   "cell_type": "code",
   "execution_count": null,
   "id": "bc7a5e60",
   "metadata": {},
   "outputs": [],
   "source": [
    "x2 = sm.add_constant(x2, prepend=True)"
   ]
  },
  {
   "cell_type": "markdown",
   "id": "b4229db3",
   "metadata": {},
   "source": [
    "# Splitting the data into training and testing set"
   ]
  },
  {
   "cell_type": "code",
   "execution_count": null,
   "id": "a6b95c5b",
   "metadata": {},
   "outputs": [],
   "source": [
    "X_train, X_test, y_train, y_test = train_test_split(x2, y2, test_size = 0.3)"
   ]
  },
  {
   "cell_type": "code",
   "execution_count": null,
   "id": "ce7cc6ae",
   "metadata": {},
   "outputs": [],
   "source": [
    "my_test = y_test"
   ]
  },
  {
   "cell_type": "markdown",
   "id": "dcc0fe51",
   "metadata": {},
   "source": [
    "# Feature Scaling"
   ]
  },
  {
   "cell_type": "code",
   "execution_count": null,
   "id": "906de2ae",
   "metadata": {},
   "outputs": [],
   "source": [
    "xtrain_scale, xval_scale, ytrain_scale, yval_scale = featureScaling(X_train, X_test, y_train, y_test)"
   ]
  },
  {
   "cell_type": "code",
   "execution_count": null,
   "id": "5d5fe4b9",
   "metadata": {
    "scrolled": false
   },
   "outputs": [],
   "source": [
    "history, predictions = lstm(xtrain_scale, ytrain_scale, xval_scale,15,1496, 500, 180,2)"
   ]
  },
  {
   "cell_type": "markdown",
   "id": "3de2e68b",
   "metadata": {},
   "source": [
    "# Model Loss plot"
   ]
  },
  {
   "cell_type": "code",
   "execution_count": null,
   "id": "96c34d6a",
   "metadata": {},
   "outputs": [],
   "source": [
    "plotting(history)"
   ]
  },
  {
   "cell_type": "markdown",
   "id": "d9b22046",
   "metadata": {},
   "source": [
    "# Predictions"
   ]
  },
  {
   "cell_type": "code",
   "execution_count": null,
   "id": "477b9c5e",
   "metadata": {},
   "outputs": [],
   "source": [
    "predictions = scaler_y.inverse_transform(predictions)\n",
    "predictions"
   ]
  },
  {
   "cell_type": "markdown",
   "id": "1fb54f2f",
   "metadata": {},
   "source": [
    "# Mean Squared error and l2 loss"
   ]
  },
  {
   "cell_type": "code",
   "execution_count": null,
   "id": "a2e120f4",
   "metadata": {},
   "outputs": [],
   "source": [
    "loss_mouse_2_null_drop = loss(my_test, predictions)"
   ]
  },
  {
   "cell_type": "markdown",
   "id": "b0ae0760",
   "metadata": {},
   "source": [
    "# Combined model for mouse 1 and mouse 2"
   ]
  },
  {
   "cell_type": "markdown",
   "id": "b7794ede",
   "metadata": {},
   "source": [
    "# Using dataframe with null values as 0"
   ]
  },
  {
   "cell_type": "code",
   "execution_count": null,
   "id": "bbc91e0c",
   "metadata": {},
   "outputs": [],
   "source": [
    "df2"
   ]
  },
  {
   "cell_type": "code",
   "execution_count": null,
   "id": "d24d4c05",
   "metadata": {},
   "outputs": [],
   "source": [
    "y12 = np.column_stack((df2[\"mouse1 center x\"], df2[\"mouse1 center y\"], df2[\"mouse2 center x\"], df2[\"mouse2 center y\"]))"
   ]
  },
  {
   "cell_type": "code",
   "execution_count": null,
   "id": "b7e1e1f6",
   "metadata": {},
   "outputs": [],
   "source": [
    "x12 = np.column_stack((df2['mouse1 nose x'],df2['mouse1 nose y'],\n",
    "                      df2['mouse1 leftear x'],df2['mouse1 leftear y'],\n",
    "                      df2['mouse1 rightear x'],df2['mouse1 rightear y'],\n",
    "                      df2['mouse1 leftHip x'],df2['mouse1 leftHip y'],\n",
    "                      df2['mouse1 rightHip x'],df2['mouse1 rightHip y'],\n",
    "                      df2['mouse1 tailBase x'],df2['mouse1 tailBase y'],\n",
    "                      df2['mouse1 tailEnd x'],df2['mouse1 tailEnd y'],\n",
    "                      df2['mouse2 nose x'],df2['mouse2 nose y'],\n",
    "                      df2['mouse2 leftear x'],df2['mouse2 leftear y'],\n",
    "                      df2['mouse2 rightear x'],df2['mouse2 rightear y'],\n",
    "                      df2['mouse2 leftHip x'],df2['mouse2 leftHip y'],\n",
    "                      df2['mouse2 rightHip x'],df2['mouse2 rightHip y'],\n",
    "                      df2['mouse2 tailBase x'],df2['mouse2 tailBase y'],\n",
    "                      df2['mouse2 tailEnd x'],df2['mouse2 tailEnd y']))"
   ]
  },
  {
   "cell_type": "code",
   "execution_count": null,
   "id": "729cc426",
   "metadata": {},
   "outputs": [],
   "source": [
    "x12 = sm.add_constant(x12, prepend=True)"
   ]
  },
  {
   "cell_type": "markdown",
   "id": "df9a8fd2",
   "metadata": {},
   "source": [
    "# Splitting the data into training and testing set"
   ]
  },
  {
   "cell_type": "code",
   "execution_count": null,
   "id": "5b0d6bdb",
   "metadata": {},
   "outputs": [],
   "source": [
    "X_train, X_test, y_train, y_test = train_test_split(x12, y12, test_size = 0.3,random_state=0)"
   ]
  },
  {
   "cell_type": "code",
   "execution_count": null,
   "id": "2ac75f02",
   "metadata": {},
   "outputs": [],
   "source": [
    "my_test = y_test"
   ]
  },
  {
   "cell_type": "markdown",
   "id": "d38f8972",
   "metadata": {},
   "source": [
    "# Feature Scaling"
   ]
  },
  {
   "cell_type": "code",
   "execution_count": null,
   "id": "b454d948",
   "metadata": {},
   "outputs": [],
   "source": [
    "xtrain_scale, xval_scale, ytrain_scale, yval_scale = featureScaling(X_train, X_test, y_train, y_test)"
   ]
  },
  {
   "cell_type": "code",
   "execution_count": null,
   "id": "b6e831b1",
   "metadata": {
    "scrolled": false
   },
   "outputs": [],
   "source": [
    "history, predictions = lstm(xtrain_scale, ytrain_scale, xval_scale,29,2992, 5000, 1000,4)"
   ]
  },
  {
   "cell_type": "markdown",
   "id": "27ccf051",
   "metadata": {},
   "source": [
    "# Model Loss plot"
   ]
  },
  {
   "cell_type": "code",
   "execution_count": null,
   "id": "3cc9533d",
   "metadata": {},
   "outputs": [],
   "source": [
    "plotting(history)"
   ]
  },
  {
   "cell_type": "markdown",
   "id": "51554291",
   "metadata": {},
   "source": [
    "# Predictions"
   ]
  },
  {
   "cell_type": "code",
   "execution_count": null,
   "id": "a4d1d860",
   "metadata": {},
   "outputs": [],
   "source": [
    "predictions = scaler_y.inverse_transform(predictions)\n",
    "predictions"
   ]
  },
  {
   "cell_type": "markdown",
   "id": "14cd1e5e",
   "metadata": {},
   "source": [
    "# Mean Squared error and l2 loss"
   ]
  },
  {
   "cell_type": "code",
   "execution_count": null,
   "id": "7d117c90",
   "metadata": {},
   "outputs": [],
   "source": [
    "loss_mouse_1_mouse_2_null_0 = loss(my_test, predictions)"
   ]
  },
  {
   "cell_type": "markdown",
   "id": "46414238",
   "metadata": {},
   "source": [
    "# Combined Model for Mouse 1 and Mouse 2 "
   ]
  },
  {
   "cell_type": "markdown",
   "id": "fb716d52",
   "metadata": {},
   "source": [
    "# Fill null values with column means"
   ]
  },
  {
   "cell_type": "code",
   "execution_count": null,
   "id": "c24b7615",
   "metadata": {},
   "outputs": [],
   "source": [
    "df3"
   ]
  },
  {
   "cell_type": "code",
   "execution_count": null,
   "id": "f6a4992a",
   "metadata": {},
   "outputs": [],
   "source": [
    "colHeader = list(df3.columns.values)"
   ]
  },
  {
   "cell_type": "code",
   "execution_count": null,
   "id": "5e7776f3",
   "metadata": {},
   "outputs": [],
   "source": [
    "# getting all the columns \n",
    "colHeader"
   ]
  },
  {
   "cell_type": "markdown",
   "id": "a8ed66b5",
   "metadata": {},
   "source": [
    "# Storing column means"
   ]
  },
  {
   "cell_type": "code",
   "execution_count": null,
   "id": "f66191c7",
   "metadata": {},
   "outputs": [],
   "source": [
    "def getMean(col):\n",
    "    mean_value=df3[col].mean()\n",
    "    df3[col].fillna(value=mean_value, inplace=True)\n",
    "for i in range (0,len(colHeader)):\n",
    "    getMean(colHeader[i])"
   ]
  },
  {
   "cell_type": "code",
   "execution_count": null,
   "id": "d6de1c3f",
   "metadata": {},
   "outputs": [],
   "source": [
    "df3"
   ]
  },
  {
   "cell_type": "code",
   "execution_count": null,
   "id": "618310af",
   "metadata": {},
   "outputs": [],
   "source": [
    "y12 = np.column_stack((df3[\"mouse1 center x\"], df3[\"mouse1 center y\"], df3[\"mouse2 center x\"], df3[\"mouse2 center y\"]))"
   ]
  },
  {
   "cell_type": "code",
   "execution_count": null,
   "id": "a34129fb",
   "metadata": {},
   "outputs": [],
   "source": [
    "x12 = np.column_stack((df3['mouse1 nose x'],df3['mouse1 nose y'],\n",
    "                      df3['mouse1 leftear x'],df3['mouse1 leftear y'],\n",
    "                      df3['mouse1 rightear x'],df3['mouse1 rightear y'],\n",
    "                      df3['mouse1 leftHip x'],df3['mouse1 leftHip y'],\n",
    "                      df3['mouse1 rightHip x'],df3['mouse1 rightHip y'],\n",
    "                      df3['mouse1 tailBase x'],df3['mouse1 tailBase y'],\n",
    "                      df3['mouse1 tailEnd x'],df3['mouse1 tailEnd y'],\n",
    "                      df3['mouse2 nose x'],df3['mouse2 nose y'],\n",
    "                      df3['mouse2 leftear x'],df3['mouse2 leftear y'],\n",
    "                      df3['mouse2 rightear x'],df3['mouse2 rightear y'],\n",
    "                      df3['mouse2 leftHip x'],df3['mouse2 leftHip y'],\n",
    "                      df3['mouse2 rightHip x'],df3['mouse2 rightHip y'],\n",
    "                      df3['mouse2 tailBase x'],df3['mouse2 tailBase y'],\n",
    "                      df3['mouse2 tailEnd x'],df3['mouse2 tailEnd y']))"
   ]
  },
  {
   "cell_type": "code",
   "execution_count": null,
   "id": "633af48c",
   "metadata": {},
   "outputs": [],
   "source": [
    "x12 = sm.add_constant(x12, prepend=True)"
   ]
  },
  {
   "cell_type": "markdown",
   "id": "598f5ae8",
   "metadata": {},
   "source": [
    "# Splitting the data into training and testing dataset"
   ]
  },
  {
   "cell_type": "code",
   "execution_count": null,
   "id": "0c9eafad",
   "metadata": {},
   "outputs": [],
   "source": [
    "X_train, X_test, y_train, y_test = train_test_split(x12, y12, test_size = 0.3,random_state=0)"
   ]
  },
  {
   "cell_type": "code",
   "execution_count": null,
   "id": "6d7fb5f0",
   "metadata": {},
   "outputs": [],
   "source": [
    "my_test = y_test"
   ]
  },
  {
   "cell_type": "markdown",
   "id": "c57b8e26",
   "metadata": {},
   "source": [
    "# Feature Scaling"
   ]
  },
  {
   "cell_type": "code",
   "execution_count": null,
   "id": "ea5299e9",
   "metadata": {},
   "outputs": [],
   "source": [
    "xtrain_scale, xval_scale, ytrain_scale, yval_scale = featureScaling(X_train, X_test, y_train, y_test)"
   ]
  },
  {
   "cell_type": "code",
   "execution_count": null,
   "id": "82d18419",
   "metadata": {
    "scrolled": false
   },
   "outputs": [],
   "source": [
    "history, predictions = lstm(xtrain_scale, ytrain_scale, xval_scale,29,2992, 5000, 1000,4)"
   ]
  },
  {
   "cell_type": "markdown",
   "id": "763d7cf7",
   "metadata": {},
   "source": [
    "# Model Loss plot"
   ]
  },
  {
   "cell_type": "code",
   "execution_count": null,
   "id": "e982a8c7",
   "metadata": {},
   "outputs": [],
   "source": [
    "plotting(history)"
   ]
  },
  {
   "cell_type": "markdown",
   "id": "bf0c6d73",
   "metadata": {},
   "source": [
    "# Predictions"
   ]
  },
  {
   "cell_type": "code",
   "execution_count": null,
   "id": "a9733c08",
   "metadata": {},
   "outputs": [],
   "source": [
    "predictions = scaler_y.inverse_transform(predictions)\n",
    "predictions"
   ]
  },
  {
   "cell_type": "markdown",
   "id": "9bdb3b93",
   "metadata": {},
   "source": [
    "# Mean Squared error and l2 loss"
   ]
  },
  {
   "cell_type": "code",
   "execution_count": null,
   "id": "dea167e9",
   "metadata": {},
   "outputs": [],
   "source": [
    "loss_mouse_1_mouse_2_null_column_mean = loss(my_test, predictions)"
   ]
  },
  {
   "cell_type": "markdown",
   "id": "4c391170",
   "metadata": {},
   "source": [
    "# Final L2 losses for 6 experiments performed"
   ]
  },
  {
   "cell_type": "code",
   "execution_count": null,
   "id": "26f50f3f",
   "metadata": {},
   "outputs": [],
   "source": [
    "print(\"L2 Loss of mouse 1 with null values as 0: \" + loss_mouse_1_null_0)\n",
    "print(\"L2 Loss of mouse 2 with null values as 0: \" + loss_mouse_2_null_0)\n",
    "print(\"L2 Loss of mouse 1 after dropping null rows: \" + loss_mouse_1_null_drop)\n",
    "print(\"L2 Loss of mouse 2 after dropping null rows: \" + loss_mouse_2_null_drop)\n",
    "print(\"L2 Loss of mouse 1 and mouse 2 with null values as 0: \" + loss_mouse_1_mouse_2_null_0)\n",
    "print(\"L2 Loss of mouse 1 and mouse 2 after filling the null values with column mean: \" + loss_mouse_1_mouse_2_null_column_mean)"
   ]
  },
  {
   "cell_type": "code",
   "execution_count": null,
   "id": "19642d30",
   "metadata": {},
   "outputs": [],
   "source": []
  },
  {
   "cell_type": "code",
   "execution_count": null,
   "id": "e71afd56",
   "metadata": {},
   "outputs": [],
   "source": []
  }
 ],
 "metadata": {
  "kernelspec": {
   "display_name": "Python 3 (ipykernel)",
   "language": "python",
   "name": "python3"
  },
  "language_info": {
   "codemirror_mode": {
    "name": "ipython",
    "version": 3
   },
   "file_extension": ".py",
   "mimetype": "text/x-python",
   "name": "python",
   "nbconvert_exporter": "python",
   "pygments_lexer": "ipython3",
   "version": "3.9.7"
  }
 },
 "nbformat": 4,
 "nbformat_minor": 5
}
